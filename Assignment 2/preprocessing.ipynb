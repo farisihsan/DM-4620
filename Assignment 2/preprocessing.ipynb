{
  "nbformat": 4,
  "nbformat_minor": 0,
  "metadata": {
    "colab": {
      "name": "preprocessing.ipynb",
      "provenance": [],
      "collapsed_sections": []
    },
    "kernelspec": {
      "name": "python3",
      "display_name": "Python 3"
    },
    "language_info": {
      "name": "python"
    }
  },
  "cells": [
    {
      "cell_type": "code",
      "execution_count": 147,
      "metadata": {
        "id": "2aFYvy0xksts"
      },
      "outputs": [],
      "source": [
        "#import library yg dibutuhkan\n",
        "import pandas as pd\n",
        "import numpy as np\n",
        "import matplotlib.pyplot as plt"
      ]
    },
    {
      "cell_type": "code",
      "source": [
        "#load dataset\n",
        "dataset = pd.read_csv('data2.csv')\n",
        "dataset.head(10)"
      ],
      "metadata": {
        "colab": {
          "base_uri": "https://localhost:8080/",
          "height": 363
        },
        "id": "7brWlaV0mkx4",
        "outputId": "46b2b66e-0405-481c-dbc7-d53405ac6080"
      },
      "execution_count": 148,
      "outputs": [
        {
          "output_type": "execute_result",
          "data": {
            "text/plain": [
              "    hewan               diagnosa jumlah_hewan_yang_diperiksa  \\\n",
              "0  Anjing                Abortus                         NaN   \n",
              "1  Anjing                  Abses                         NaN   \n",
              "2  Anjing  Acral Lick Dermatitis                           0   \n",
              "3  Anjing         Aggenesis Anni                           0   \n",
              "4  Anjing                 Alergi                           0   \n",
              "5  Anjing               Alopecia                           0   \n",
              "6  Anjing                 Anemia                           0   \n",
              "7  Anjing              Arthritis                         NaN   \n",
              "8  Anjing           Avitaminosis                         NaN   \n",
              "9  Anjing                    BEF                           0   \n",
              "\n",
              "                                          pengobatan  \n",
              "0          Vetoxy La. Vetadryl. Sulpidone. Hematodin  \n",
              "1  Cefotaxime.Dexamethason.Biosolamin.Septo Skin ...  \n",
              "2                      Bethamox. Vitol Ade. Vetadryl  \n",
              "3                                  Op Pembuatan Anus  \n",
              "4                                 Vetadryl. Vit Ade.  \n",
              "5                                              Vitol  \n",
              "6                                          Hematodin  \n",
              "7           Calcidex. Vit Ade. Dexamethazone. Biodin  \n",
              "8  Inj/ Betamox. Vetadryl. Hematodin. Biodin. Curvit  \n",
              "9          Vetoxy La. Vetadryl. Sulpidone. Hematodin  "
            ],
            "text/html": [
              "\n",
              "  <div id=\"df-6537bdb9-3486-473a-a513-8b20a89d0305\">\n",
              "    <div class=\"colab-df-container\">\n",
              "      <div>\n",
              "<style scoped>\n",
              "    .dataframe tbody tr th:only-of-type {\n",
              "        vertical-align: middle;\n",
              "    }\n",
              "\n",
              "    .dataframe tbody tr th {\n",
              "        vertical-align: top;\n",
              "    }\n",
              "\n",
              "    .dataframe thead th {\n",
              "        text-align: right;\n",
              "    }\n",
              "</style>\n",
              "<table border=\"1\" class=\"dataframe\">\n",
              "  <thead>\n",
              "    <tr style=\"text-align: right;\">\n",
              "      <th></th>\n",
              "      <th>hewan</th>\n",
              "      <th>diagnosa</th>\n",
              "      <th>jumlah_hewan_yang_diperiksa</th>\n",
              "      <th>pengobatan</th>\n",
              "    </tr>\n",
              "  </thead>\n",
              "  <tbody>\n",
              "    <tr>\n",
              "      <th>0</th>\n",
              "      <td>Anjing</td>\n",
              "      <td>Abortus</td>\n",
              "      <td>NaN</td>\n",
              "      <td>Vetoxy La. Vetadryl. Sulpidone. Hematodin</td>\n",
              "    </tr>\n",
              "    <tr>\n",
              "      <th>1</th>\n",
              "      <td>Anjing</td>\n",
              "      <td>Abses</td>\n",
              "      <td>NaN</td>\n",
              "      <td>Cefotaxime.Dexamethason.Biosolamin.Septo Skin ...</td>\n",
              "    </tr>\n",
              "    <tr>\n",
              "      <th>2</th>\n",
              "      <td>Anjing</td>\n",
              "      <td>Acral Lick Dermatitis</td>\n",
              "      <td>0</td>\n",
              "      <td>Bethamox. Vitol Ade. Vetadryl</td>\n",
              "    </tr>\n",
              "    <tr>\n",
              "      <th>3</th>\n",
              "      <td>Anjing</td>\n",
              "      <td>Aggenesis Anni</td>\n",
              "      <td>0</td>\n",
              "      <td>Op Pembuatan Anus</td>\n",
              "    </tr>\n",
              "    <tr>\n",
              "      <th>4</th>\n",
              "      <td>Anjing</td>\n",
              "      <td>Alergi</td>\n",
              "      <td>0</td>\n",
              "      <td>Vetadryl. Vit Ade.</td>\n",
              "    </tr>\n",
              "    <tr>\n",
              "      <th>5</th>\n",
              "      <td>Anjing</td>\n",
              "      <td>Alopecia</td>\n",
              "      <td>0</td>\n",
              "      <td>Vitol</td>\n",
              "    </tr>\n",
              "    <tr>\n",
              "      <th>6</th>\n",
              "      <td>Anjing</td>\n",
              "      <td>Anemia</td>\n",
              "      <td>0</td>\n",
              "      <td>Hematodin</td>\n",
              "    </tr>\n",
              "    <tr>\n",
              "      <th>7</th>\n",
              "      <td>Anjing</td>\n",
              "      <td>Arthritis</td>\n",
              "      <td>NaN</td>\n",
              "      <td>Calcidex. Vit Ade. Dexamethazone. Biodin</td>\n",
              "    </tr>\n",
              "    <tr>\n",
              "      <th>8</th>\n",
              "      <td>Anjing</td>\n",
              "      <td>Avitaminosis</td>\n",
              "      <td>NaN</td>\n",
              "      <td>Inj/ Betamox. Vetadryl. Hematodin. Biodin. Curvit</td>\n",
              "    </tr>\n",
              "    <tr>\n",
              "      <th>9</th>\n",
              "      <td>Anjing</td>\n",
              "      <td>BEF</td>\n",
              "      <td>0</td>\n",
              "      <td>Vetoxy La. Vetadryl. Sulpidone. Hematodin</td>\n",
              "    </tr>\n",
              "  </tbody>\n",
              "</table>\n",
              "</div>\n",
              "      <button class=\"colab-df-convert\" onclick=\"convertToInteractive('df-6537bdb9-3486-473a-a513-8b20a89d0305')\"\n",
              "              title=\"Convert this dataframe to an interactive table.\"\n",
              "              style=\"display:none;\">\n",
              "        \n",
              "  <svg xmlns=\"http://www.w3.org/2000/svg\" height=\"24px\"viewBox=\"0 0 24 24\"\n",
              "       width=\"24px\">\n",
              "    <path d=\"M0 0h24v24H0V0z\" fill=\"none\"/>\n",
              "    <path d=\"M18.56 5.44l.94 2.06.94-2.06 2.06-.94-2.06-.94-.94-2.06-.94 2.06-2.06.94zm-11 1L8.5 8.5l.94-2.06 2.06-.94-2.06-.94L8.5 2.5l-.94 2.06-2.06.94zm10 10l.94 2.06.94-2.06 2.06-.94-2.06-.94-.94-2.06-.94 2.06-2.06.94z\"/><path d=\"M17.41 7.96l-1.37-1.37c-.4-.4-.92-.59-1.43-.59-.52 0-1.04.2-1.43.59L10.3 9.45l-7.72 7.72c-.78.78-.78 2.05 0 2.83L4 21.41c.39.39.9.59 1.41.59.51 0 1.02-.2 1.41-.59l7.78-7.78 2.81-2.81c.8-.78.8-2.07 0-2.86zM5.41 20L4 18.59l7.72-7.72 1.47 1.35L5.41 20z\"/>\n",
              "  </svg>\n",
              "      </button>\n",
              "      \n",
              "  <style>\n",
              "    .colab-df-container {\n",
              "      display:flex;\n",
              "      flex-wrap:wrap;\n",
              "      gap: 12px;\n",
              "    }\n",
              "\n",
              "    .colab-df-convert {\n",
              "      background-color: #E8F0FE;\n",
              "      border: none;\n",
              "      border-radius: 50%;\n",
              "      cursor: pointer;\n",
              "      display: none;\n",
              "      fill: #1967D2;\n",
              "      height: 32px;\n",
              "      padding: 0 0 0 0;\n",
              "      width: 32px;\n",
              "    }\n",
              "\n",
              "    .colab-df-convert:hover {\n",
              "      background-color: #E2EBFA;\n",
              "      box-shadow: 0px 1px 2px rgba(60, 64, 67, 0.3), 0px 1px 3px 1px rgba(60, 64, 67, 0.15);\n",
              "      fill: #174EA6;\n",
              "    }\n",
              "\n",
              "    [theme=dark] .colab-df-convert {\n",
              "      background-color: #3B4455;\n",
              "      fill: #D2E3FC;\n",
              "    }\n",
              "\n",
              "    [theme=dark] .colab-df-convert:hover {\n",
              "      background-color: #434B5C;\n",
              "      box-shadow: 0px 1px 3px 1px rgba(0, 0, 0, 0.15);\n",
              "      filter: drop-shadow(0px 1px 2px rgba(0, 0, 0, 0.3));\n",
              "      fill: #FFFFFF;\n",
              "    }\n",
              "  </style>\n",
              "\n",
              "      <script>\n",
              "        const buttonEl =\n",
              "          document.querySelector('#df-6537bdb9-3486-473a-a513-8b20a89d0305 button.colab-df-convert');\n",
              "        buttonEl.style.display =\n",
              "          google.colab.kernel.accessAllowed ? 'block' : 'none';\n",
              "\n",
              "        async function convertToInteractive(key) {\n",
              "          const element = document.querySelector('#df-6537bdb9-3486-473a-a513-8b20a89d0305');\n",
              "          const dataTable =\n",
              "            await google.colab.kernel.invokeFunction('convertToInteractive',\n",
              "                                                     [key], {});\n",
              "          if (!dataTable) return;\n",
              "\n",
              "          const docLinkHtml = 'Like what you see? Visit the ' +\n",
              "            '<a target=\"_blank\" href=https://colab.research.google.com/notebooks/data_table.ipynb>data table notebook</a>'\n",
              "            + ' to learn more about interactive tables.';\n",
              "          element.innerHTML = '';\n",
              "          dataTable['output_type'] = 'display_data';\n",
              "          await google.colab.output.renderOutput(dataTable, element);\n",
              "          const docLink = document.createElement('div');\n",
              "          docLink.innerHTML = docLinkHtml;\n",
              "          element.appendChild(docLink);\n",
              "        }\n",
              "      </script>\n",
              "    </div>\n",
              "  </div>\n",
              "  "
            ]
          },
          "metadata": {},
          "execution_count": 148
        }
      ]
    },
    {
      "cell_type": "code",
      "source": [
        "x = dataset.iloc[:,:-1].values\n",
        "y = dataset.iloc[:,-1].values"
      ],
      "metadata": {
        "id": "WwYjQHG574PB"
      },
      "execution_count": 149,
      "outputs": []
    },
    {
      "cell_type": "code",
      "source": [
        "print(\"X :\",x)"
      ],
      "metadata": {
        "colab": {
          "base_uri": "https://localhost:8080/"
        },
        "id": "Ftov3k6Kw9yz",
        "outputId": "98743d3d-07fc-461c-d02f-b19548d74d41"
      },
      "execution_count": 150,
      "outputs": [
        {
          "output_type": "stream",
          "name": "stdout",
          "text": [
            "X : [['Anjing' 'Abortus' nan]\n",
            " ['Anjing' 'Abses' nan]\n",
            " ['Anjing' 'Acral Lick Dermatitis' '0']\n",
            " ...\n",
            " ['kambing' 'Vaginitis' '0']\n",
            " ['kambing' 'Vomit' '0']\n",
            " ['kambing' 'Vulnus' '0']]\n"
          ]
        }
      ]
    },
    {
      "cell_type": "code",
      "source": [
        "print(\"Y :\", y)"
      ],
      "metadata": {
        "id": "JrXEZcf9xYXW"
      },
      "execution_count": null,
      "outputs": []
    },
    {
      "cell_type": "code",
      "source": [
        "from sklearn.impute import SimpleImputer\n",
        "imputer = SimpleImputer(missing_values=np.nan, strategy='most_frequent')\n",
        "imputer.fit(x[:, 1:4])\n",
        "x[:,1:4] = imputer.transform(x[:,1:4])"
      ],
      "metadata": {
        "id": "Dmz9bjH2xhPW"
      },
      "execution_count": 152,
      "outputs": []
    },
    {
      "cell_type": "code",
      "source": [
        "print(x)"
      ],
      "metadata": {
        "colab": {
          "base_uri": "https://localhost:8080/"
        },
        "id": "DqmLvnGOH3Xv",
        "outputId": "e416d2f4-8c97-47cc-e56e-20dd9e5fa76d"
      },
      "execution_count": 153,
      "outputs": [
        {
          "output_type": "stream",
          "name": "stdout",
          "text": [
            "[['Anjing' 'Abortus' '0']\n",
            " ['Anjing' 'Abses' '0']\n",
            " ['Anjing' 'Acral Lick Dermatitis' '0']\n",
            " ...\n",
            " ['kambing' 'Vaginitis' '0']\n",
            " ['kambing' 'Vomit' '0']\n",
            " ['kambing' 'Vulnus' '0']]\n"
          ]
        }
      ]
    },
    {
      "cell_type": "code",
      "source": [
        "from sklearn.compose import ColumnTransformer\n",
        "from sklearn.preprocessing import OneHotEncoder\n",
        "ct = ColumnTransformer(transformers = [('encoder', OneHotEncoder(),[0])],remainder = 'passthrough')\n",
        "x = np.array(ct.fit_transform(x))"
      ],
      "metadata": {
        "id": "NRiHHSrvXu-d"
      },
      "execution_count": 154,
      "outputs": []
    },
    {
      "cell_type": "code",
      "source": [
        "print(x)"
      ],
      "metadata": {
        "colab": {
          "base_uri": "https://localhost:8080/"
        },
        "id": "erGVdE9iXv9Z",
        "outputId": "0462e6ec-7eb0-4ed3-9502-d0e02b5bd735"
      },
      "execution_count": 155,
      "outputs": [
        {
          "output_type": "stream",
          "name": "stdout",
          "text": [
            "[[1.0 0.0 0.0 ... 0.0 'Abortus' '0']\n",
            " [1.0 0.0 0.0 ... 0.0 'Abses' '0']\n",
            " [1.0 0.0 0.0 ... 0.0 'Acral Lick Dermatitis' '0']\n",
            " ...\n",
            " [0.0 0.0 0.0 ... 1.0 'Vaginitis' '0']\n",
            " [0.0 0.0 0.0 ... 1.0 'Vomit' '0']\n",
            " [0.0 0.0 0.0 ... 1.0 'Vulnus' '0']]\n"
          ]
        }
      ]
    },
    {
      "cell_type": "code",
      "source": [
        "from sklearn.preprocessing import LabelEncoder\n",
        "le = LabelEncoder()\n",
        "y = le.fit_transform(y)"
      ],
      "metadata": {
        "id": "jLjxmgS2YGG7"
      },
      "execution_count": 156,
      "outputs": []
    },
    {
      "cell_type": "code",
      "source": [
        "print(y)"
      ],
      "metadata": {
        "id": "RyoYkHIQYqpr"
      },
      "execution_count": null,
      "outputs": []
    },
    {
      "cell_type": "code",
      "source": [
        "from sklearn.model_selection import train_test_split\n",
        "x_train, x_test, y_train, y_test = train_test_split(x, y, train_size=0.7, test_size = 0.3, random_state=100)\n"
      ],
      "metadata": {
        "id": "smHwBjnFZMr1"
      },
      "execution_count": 164,
      "outputs": []
    },
    {
      "cell_type": "code",
      "source": [
        "print(x_train)"
      ],
      "metadata": {
        "colab": {
          "base_uri": "https://localhost:8080/"
        },
        "id": "gjefZGhRaAHo",
        "outputId": "03809bda-8288-4fa9-8ec6-5934dafe4f4e"
      },
      "execution_count": 165,
      "outputs": [
        {
          "output_type": "stream",
          "name": "stdout",
          "text": [
            "[[1.0 0.0 0.0 ... 0.0 'Pasca Operasi Besar' '0']\n",
            " [0.0 0.0 0.0 ... 1.0 'Ektoparasitosis' '0']\n",
            " [0.0 0.0 0.0 ... 0.0 'EGC' '0']\n",
            " ...\n",
            " [0.0 0.0 0.0 ... 1.0 'Kennel Cough' '0']\n",
            " [0.0 0.0 0.0 ... 1.0 'Conjunctivitis' '0']\n",
            " [0.0 0.0 0.0 ... 0.0 'Alergi' '0']]\n"
          ]
        }
      ]
    },
    {
      "cell_type": "code",
      "source": [
        "print(x_test)"
      ],
      "metadata": {
        "colab": {
          "base_uri": "https://localhost:8080/"
        },
        "id": "dhtq8BKtbYbX",
        "outputId": "00d8c2c5-9e95-460c-9fb7-c2a77a09421c"
      },
      "execution_count": 166,
      "outputs": [
        {
          "output_type": "stream",
          "name": "stdout",
          "text": [
            "[[0.0 1.0 0.0 ... 0.0 'CKD' '0']\n",
            " [0.0 1.0 0.0 ... 0.0 'Flu' '0']\n",
            " [0.0 0.0 0.0 ... 0.0 'Kelemahan Otot' '1']\n",
            " ...\n",
            " [0.0 0.0 0.0 ... 1.0 'Intoksikasi ' '0']\n",
            " [0.0 0.0 1.0 ... 0.0 'Dermatitis' '0']\n",
            " [1.0 0.0 0.0 ... 0.0 'Luka pada kaki' '0']]\n"
          ]
        }
      ]
    },
    {
      "cell_type": "code",
      "source": [
        "print(y_train)"
      ],
      "metadata": {
        "colab": {
          "base_uri": "https://localhost:8080/"
        },
        "id": "hQ3rgytZbbAv",
        "outputId": "b5a191e8-69cc-4e7b-e22c-cae2701ca815"
      },
      "execution_count": 167,
      "outputs": [
        {
          "output_type": "stream",
          "name": "stdout",
          "text": [
            "[ 92  75  50  49  63  15  14  77  44  88  12 105  82  70  58  53  19  86\n",
            "  86 106  54  66  25  32 105  50  94  82  17  58  40  76  29  11  57  44\n",
            "  93  36 102  68  68  44  63  20  40  44 109  46  62 111  92  40 110   7\n",
            "  78  45 105  43  14  14  41  75  89  57  80  41  32   6  15  26  92 105\n",
            "  48  22   0  35  44  99  95  10 114 100   2  56  97   6  43  21  67  50\n",
            "  11  30  69   2  68  72  67  90  34  26 108  54  54  13  94  70  74  66\n",
            "  18  28  75  98  44  65   3  27   7  10  27  27  21  20  91   3  38 105\n",
            "  30  73  15  52  94  90  17  60  79  51 109  92  21 105 110 104   0  32\n",
            "  79   5  53  82 108  46  81  44  83  34  68  42  72  66  87 110  89  31\n",
            "  72 105  25  87  66  74  83 112  36  97  88  98  10  25  73  61 111  31\n",
            "  60   7 113  50  75   9  69  16   4 109  33  72  46 111  57  53  23  39\n",
            " 114  40   5  83  39  44  71 100  33  43  78  23  60   2  14  16  25  17\n",
            "  62 100  61 105  48   8  49   1  96  59  57  26  35  87  49  40  97  49\n",
            "   9 113 109  65  58  39  26  92  87 108  37  18  21 114  57   4  79 111\n",
            "  61  95  14  80 105  17 100  86  59  20  44  54  25   0  52  65 105 109\n",
            " 105 107  69  46 108  27  24  12 109  23 114  17  70 110  28  25  69  96\n",
            "  26  60  78  23  47   3   9  37  94  13  80  26  92  90 101  94  37  86\n",
            "  12  26  68   6 114 106 114  26 102  16  38  30  53  10   8  45   5  75\n",
            "  25  18  55  86  27  57  77  56  13  25  57  41  17   7  91  39   5  25\n",
            " 104  47  57 102 110   0  13  71  26 107  31  84  14  64  10  25  86   7\n",
            " 106  69  47  49  14  68  80  72  92  16  78  90 107  67  37  20  40  68\n",
            "  69 103  85  11  44 102  53  68  76  84  93  88 100  52 105  37  25  59\n",
            "  41  52  17  29   5  52  95  25  16 101  51  75  33  10  36  45  91 105\n",
            "  12  70  53  19  88   6  60  65  44  37  89  36 107  25  93  63 107  47\n",
            "  18  11 112 105  12  90 104  71  57  80  28 113   8   0  46 110  70  21\n",
            "  15  39  77  99  80  30 104 107  61   4  49  24  32  57  99  93 104  67\n",
            "  37  47  22  73  30  11  51  20  55  82  85 113  89  22   9  43  66  40\n",
            "  84 105  25   9  40  31  72  71  21  88  64  19  59  95  74  25  76  64\n",
            "  27 111  85  21  87  50 103  33  97  35 112  25   4  50  90  77  40  18\n",
            "  63  26  99  24   2  56  68  17  58 102 106  38  25  25  92  53  40  68\n",
            " 111  33  16  16  70  17  84  34   0   6  99  59  30  58  13  56  43 105\n",
            "  73  22  64  42   8  25  81  48   2 105   8  44  55  96  54  21  15  50\n",
            "  47  94  52  35  96  79  95  54  21   9  42  30  45  25  96  71  77  91\n",
            "  29  51  57  92  63 103  83  45  21  36  76   2  97  40  84  62 103  25\n",
            "  60  26  42  20 101  97  98  76 101  62   1  65 108 108  72   5  18  17\n",
            "  44 103]\n"
          ]
        }
      ]
    },
    {
      "cell_type": "code",
      "source": [
        "print(y_test)"
      ],
      "metadata": {
        "colab": {
          "base_uri": "https://localhost:8080/"
        },
        "id": "jVHbM4jObdGl",
        "outputId": "6cafd142-d624-49d8-8b21-440276380bde"
      },
      "execution_count": 168,
      "outputs": [
        {
          "output_type": "stream",
          "name": "stdout",
          "text": [
            "[ 81  38  91  57  38  81 112  73 109  25  99  49  22  21   4  63  92  92\n",
            "  23  29  89  42  43  47 112  78  26  93  44  43  98 104 103  57  85  68\n",
            "  91  68  90  85 105  88 108  64  48   3  94  45  42  24  91  98   7  85\n",
            "  51   6   1 105  92  23  38  62   4  21 113  68  41  98 113  74 112  34\n",
            "  96  38  19  37  32  39  88  56  36  45 101  80  19 102  22  28 114  29\n",
            " 111  73  82   5  64  12  99  79  15   6  54  76 105  73  97  82  78  59\n",
            "  93 112 113  86  55  25  31 106  56  48  37  29  51   1  21  81  74  55\n",
            "  63  25  82  48  34  61  29  20  18  40   3  34  87  61 101  89  19  13\n",
            "  84   1  77  83  66  79  76  58  65  17  74   3  79  11  92   1  61  67\n",
            "  84 100 101  51  92 106   1  48  62  58  22  31  25  56 103  24  13  25\n",
            "  41   8  37  11   2  34  66 106  37  28  89  69  77  46  57  39  95  55\n",
            "  83  40  19  93  40  10  59  37  60  28  25   8  17 102  71  41  71  28\n",
            "  65  35  46  27  15  17  23  21   7  12   9  67 110  35  37  75  24  32\n",
            "  33  24  95  33  67 104  98  68   3 107  96  74  36  26  42  35  32  83\n",
            "  62  70  87  81 100  37 105   0  17  25  64  85  81  52   4  31  26  78\n",
            "  55]\n"
          ]
        }
      ]
    }
  ]
}