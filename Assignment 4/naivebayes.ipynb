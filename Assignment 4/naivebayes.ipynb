{
  "nbformat": 4,
  "nbformat_minor": 0,
  "metadata": {
    "colab": {
      "name": "naivebayes.ipynb",
      "provenance": [],
      "collapsed_sections": []
    },
    "kernelspec": {
      "name": "python3",
      "display_name": "Python 3"
    },
    "language_info": {
      "name": "python"
    }
  },
  "cells": [
    {
      "cell_type": "code",
      "execution_count": 40,
      "metadata": {
        "id": "fCES6Gpr9GQ4"
      },
      "outputs": [],
      "source": [
        "import numpy as np\n",
        "import matplotlib.pyplot as plt\n",
        "import pandas as pd"
      ]
    },
    {
      "cell_type": "code",
      "source": [
        "# import dataset\n",
        "dataset = pd.read_csv('daftar-judul-publikasi-siaran-pers-pemerintah-provinsi-dki-jakarta-bulan-januari-tahun-2021.csv')\n",
        "x = dataset.iloc[:, [5,6]].values\n",
        "y = dataset.iloc[:, -1].values"
      ],
      "metadata": {
        "id": "LgrBRgPRC1bg"
      },
      "execution_count": 131,
      "outputs": []
    },
    {
      "cell_type": "code",
      "source": [
        "print(x)"
      ],
      "metadata": {
        "colab": {
          "base_uri": "https://localhost:8080/"
        },
        "id": "IMdtv4h0PJG6",
        "outputId": "2e1a6d9b-f463-4aa8-f6c2-3b8fe59a01ac"
      },
      "execution_count": 132,
      "outputs": [
        {
          "output_type": "stream",
          "name": "stdout",
          "text": [
            "[[    4    20]\n",
            " [    3    31]\n",
            " [    0 13664]\n",
            " [    2    33]\n",
            " [    0   696]\n",
            " [    4    69]\n",
            " [    2    44]\n",
            " [    2    86]\n",
            " [    4    39]\n",
            " [    2    50]\n",
            " [    2    82]\n",
            " [    4   110]\n",
            " [    3    35]\n",
            " [    0   146]\n",
            " [    2    32]\n",
            " [    4    34]\n",
            " [    4    42]\n",
            " [    4    58]\n",
            " [    4    22]\n",
            " [    2    33]\n",
            " [    4    25]\n",
            " [    3    30]\n",
            " [    4    27]\n",
            " [    4    65]\n",
            " [    4    34]\n",
            " [    2    27]\n",
            " [    4    19]\n",
            " [    3    45]\n",
            " [    2    28]\n",
            " [    4    34]\n",
            " [    4    34]\n",
            " [    2    30]\n",
            " [    2    22]\n",
            " [    2    40]\n",
            " [    2    38]\n",
            " [    2    50]\n",
            " [    4    49]\n",
            " [    3    50]\n",
            " [    2    57]\n",
            " [    4    84]\n",
            " [    2    64]\n",
            " [    2    75]\n",
            " [    2    73]\n",
            " [    2    73]\n",
            " [    0   133]\n",
            " [    0    87]\n",
            " [    2    86]\n",
            " [    0    55]\n",
            " [    2    64]\n",
            " [    4    61]\n",
            " [    4    57]\n",
            " [    3    56]\n",
            " [    3    51]\n",
            " [    3    31]\n",
            " [    3    34]\n",
            " [    4    36]\n",
            " [    2    23]\n",
            " [    4    67]\n",
            " [    2    43]\n",
            " [    0   120]\n",
            " [    2   121]\n",
            " [    4    69]\n",
            " [    2    71]]\n"
          ]
        }
      ]
    },
    {
      "cell_type": "code",
      "source": [
        "print(y)"
      ],
      "metadata": {
        "colab": {
          "base_uri": "https://localhost:8080/"
        },
        "id": "HqB6sjYLPrXa",
        "outputId": "0711b50f-50af-4a8d-af3b-83bd6b0af71e"
      },
      "execution_count": 133,
      "outputs": [
        {
          "output_type": "stream",
          "name": "stdout",
          "text": [
            "[    64     61 306142     73  13986    324     84    136     78    102\n",
            "    108    165    210   1828     27     28    129    143     51     82\n",
            "     56     76     58    180    132     56     97    191     67    324\n",
            "    260     50     73     78    101    116    228    112    210     99\n",
            "     87    110     77     97   2593    126     82     99     98     96\n",
            "    102     90    181    121    125    122     62    190     62    132\n",
            "     60    133     62]\n"
          ]
        }
      ]
    },
    {
      "cell_type": "code",
      "source": [
        "from sklearn.model_selection import train_test_split\n",
        "x_train,x_test,y_train,y_test = train_test_split(x,y, test_size = 0.25, random_state = 0)"
      ],
      "metadata": {
        "id": "395_BapcQIkv"
      },
      "execution_count": 134,
      "outputs": []
    },
    {
      "cell_type": "code",
      "source": [
        "print(x_train)"
      ],
      "metadata": {
        "colab": {
          "base_uri": "https://localhost:8080/"
        },
        "id": "sBoQw86MRhFr",
        "outputId": "7ddd230b-4e65-4244-bc29-d5545cf4fa51"
      },
      "execution_count": 135,
      "outputs": [
        {
          "output_type": "stream",
          "name": "stdout",
          "text": [
            "[[  2  50]\n",
            " [  0  87]\n",
            " [  2  28]\n",
            " [  2  86]\n",
            " [  2  32]\n",
            " [  4  27]\n",
            " [  2  73]\n",
            " [  3  34]\n",
            " [  2  64]\n",
            " [  2  75]\n",
            " [  4  67]\n",
            " [  4  22]\n",
            " [  0 120]\n",
            " [  2  30]\n",
            " [  4  34]\n",
            " [  4  34]\n",
            " [  4  69]\n",
            " [  4  42]\n",
            " [  4  25]\n",
            " [  4  36]\n",
            " [  4  39]\n",
            " [  0 146]\n",
            " [  2  27]\n",
            " [  3  50]\n",
            " [  4  58]\n",
            " [  4  69]\n",
            " [  3  51]\n",
            " [  2  23]\n",
            " [  2  57]\n",
            " [  3  31]\n",
            " [  3  35]\n",
            " [  2  64]\n",
            " [  4  34]\n",
            " [  2  44]\n",
            " [  4  65]\n",
            " [  4  49]\n",
            " [  4  57]\n",
            " [  3  30]\n",
            " [  2  33]\n",
            " [  2  50]\n",
            " [  4  84]\n",
            " [  2  43]\n",
            " [  2  33]\n",
            " [  4  20]\n",
            " [  3  31]\n",
            " [  0  55]\n",
            " [  0 133]]\n"
          ]
        }
      ]
    },
    {
      "cell_type": "code",
      "source": [
        "print(x_test)"
      ],
      "metadata": {
        "colab": {
          "base_uri": "https://localhost:8080/"
        },
        "id": "glj2NwbGRj88",
        "outputId": "893cb4e4-3208-4fc4-fe91-e86e042977b9"
      },
      "execution_count": 137,
      "outputs": [
        {
          "output_type": "stream",
          "name": "stdout",
          "text": [
            "[[    2    73]\n",
            " [    4    61]\n",
            " [    2    71]\n",
            " [    3    56]\n",
            " [    2    22]\n",
            " [    2    38]\n",
            " [    4    34]\n",
            " [    2    86]\n",
            " [    4   110]\n",
            " [    0 13664]\n",
            " [    4    19]\n",
            " [    2   121]\n",
            " [    0   696]\n",
            " [    2    82]\n",
            " [    3    45]\n",
            " [    2    40]]\n"
          ]
        }
      ]
    },
    {
      "cell_type": "code",
      "source": [
        "print(y_train)"
      ],
      "metadata": {
        "colab": {
          "base_uri": "https://localhost:8080/"
        },
        "id": "YxDQqlEQRocP",
        "outputId": "4339b156-1121-4d7a-c312-5b02c7605f26"
      },
      "execution_count": 138,
      "outputs": [
        {
          "output_type": "stream",
          "name": "stdout",
          "text": [
            "[ 116  126   67  136   27   58   77  125   87  110  190   51  132   50\n",
            "   28  260  324  129   56  122   78 1828   56  112  143  133  181   62\n",
            "  210   61  210   98  132   84  180  228  102   76   82  102   99   62\n",
            "   73   64  121   99 2593]\n"
          ]
        }
      ]
    },
    {
      "cell_type": "code",
      "source": [
        "print(y_test)"
      ],
      "metadata": {
        "colab": {
          "base_uri": "https://localhost:8080/"
        },
        "id": "gzU1Hy8sRsk7",
        "outputId": "f7440662-f163-4bb3-8c36-af0af25fb047"
      },
      "execution_count": 139,
      "outputs": [
        {
          "output_type": "stream",
          "name": "stdout",
          "text": [
            "[    97     96     62     90     73    101    324     82    165 306142\n",
            "     97     60  13986    108    191     78]\n"
          ]
        }
      ]
    },
    {
      "cell_type": "code",
      "source": [
        "from sklearn.preprocessing import StandardScaler\n",
        "sc = StandardScaler()\n",
        "x_train = sc.fit_transform(x_train)\n",
        "x_test = sc.transform(x_test)"
      ],
      "metadata": {
        "id": "aE5icXkPRz_8"
      },
      "execution_count": 140,
      "outputs": []
    },
    {
      "cell_type": "code",
      "source": [
        "print(x_train)"
      ],
      "metadata": {
        "colab": {
          "base_uri": "https://localhost:8080/"
        },
        "id": "LkqdK4CLSJdQ",
        "outputId": "edfe1e8d-3326-42f5-d403-37d41fad5a3d"
      },
      "execution_count": 141,
      "outputs": [
        {
          "output_type": "stream",
          "name": "stdout",
          "text": [
            "[[-0.5527708  -0.07347674]\n",
            " [-2.12733004  1.25752383]\n",
            " [-0.5527708  -0.86488249]\n",
            " [-0.5527708   1.22155084]\n",
            " [-0.5527708  -0.72099053]\n",
            " [ 1.02178845 -0.90085548]\n",
            " [-0.5527708   0.75390199]\n",
            " [ 0.23450882 -0.64904456]\n",
            " [-0.5527708   0.4301451 ]\n",
            " [-0.5527708   0.82584797]\n",
            " [ 1.02178845  0.53806406]\n",
            " [ 1.02178845 -1.08072042]\n",
            " [-2.12733004  2.44463245]\n",
            " [-0.5527708  -0.79293651]\n",
            " [ 1.02178845 -0.64904456]\n",
            " [ 1.02178845 -0.64904456]\n",
            " [ 1.02178845  0.61001004]\n",
            " [ 1.02178845 -0.36126065]\n",
            " [ 1.02178845 -0.97280145]\n",
            " [ 1.02178845 -0.57709858]\n",
            " [ 1.02178845 -0.46917961]\n",
            " [-2.12733004  3.37993015]\n",
            " [-0.5527708  -0.90085548]\n",
            " [ 0.23450882 -0.07347674]\n",
            " [ 1.02178845  0.21430717]\n",
            " [ 1.02178845  0.61001004]\n",
            " [ 0.23450882 -0.03750375]\n",
            " [-0.5527708  -1.04474743]\n",
            " [-0.5527708   0.17833418]\n",
            " [ 0.23450882 -0.75696352]\n",
            " [ 0.23450882 -0.61307157]\n",
            " [-0.5527708   0.4301451 ]\n",
            " [ 1.02178845 -0.64904456]\n",
            " [-0.5527708  -0.28931467]\n",
            " [ 1.02178845  0.46611808]\n",
            " [ 1.02178845 -0.10944973]\n",
            " [ 1.02178845  0.17833418]\n",
            " [ 0.23450882 -0.79293651]\n",
            " [-0.5527708  -0.68501755]\n",
            " [-0.5527708  -0.07347674]\n",
            " [ 1.02178845  1.14960486]\n",
            " [-0.5527708  -0.32528766]\n",
            " [-0.5527708  -0.68501755]\n",
            " [ 1.02178845 -1.15266639]\n",
            " [ 0.23450882 -0.75696352]\n",
            " [-2.12733004  0.1063882 ]\n",
            " [-2.12733004  2.9122813 ]]\n"
          ]
        }
      ]
    },
    {
      "cell_type": "code",
      "source": [
        "print(x_test)"
      ],
      "metadata": {
        "colab": {
          "base_uri": "https://localhost:8080/"
        },
        "id": "1lfjdUZaSMNR",
        "outputId": "de139791-0c0c-46ac-caae-34da00f414e3"
      },
      "execution_count": 143,
      "outputs": [
        {
          "output_type": "stream",
          "name": "stdout",
          "text": [
            "[[-5.52770798e-01  7.53901991e-01]\n",
            " [ 1.02178845e+00  3.22226130e-01]\n",
            " [-5.52770798e-01  6.81956014e-01]\n",
            " [ 2.34508824e-01  1.42361188e-01]\n",
            " [-5.52770798e-01 -1.08072042e+00]\n",
            " [-5.52770798e-01 -5.05152603e-01]\n",
            " [ 1.02178845e+00 -6.49044557e-01]\n",
            " [-5.52770798e-01  1.22155084e+00]\n",
            " [ 1.02178845e+00  2.08490256e+00]\n",
            " [-2.12733004e+00  4.89662788e+02]\n",
            " [ 1.02178845e+00 -1.18863938e+00]\n",
            " [-5.52770798e-01  2.48060544e+00]\n",
            " [-2.12733004e+00  2.31650738e+01]\n",
            " [-5.52770798e-01  1.07765889e+00]\n",
            " [ 2.34508824e-01 -2.53341684e-01]\n",
            " [-5.52770798e-01 -4.33206626e-01]]\n"
          ]
        }
      ]
    },
    {
      "cell_type": "code",
      "source": [
        "from sklearn.naive_bayes import GaussianNB\n",
        "classifier = GaussianNB()\n",
        "classifier.fit(x_train, y_train)"
      ],
      "metadata": {
        "colab": {
          "base_uri": "https://localhost:8080/"
        },
        "id": "criDxAxsSXhV",
        "outputId": "7156c3a0-686f-4030-d05d-2682bdbfd9c3"
      },
      "execution_count": 144,
      "outputs": [
        {
          "output_type": "execute_result",
          "data": {
            "text/plain": [
              "GaussianNB()"
            ]
          },
          "metadata": {},
          "execution_count": 144
        }
      ]
    },
    {
      "cell_type": "code",
      "source": [
        "y_pred = classifier.predict(x_test)"
      ],
      "metadata": {
        "id": "N7K1O41yS9oJ"
      },
      "execution_count": 145,
      "outputs": []
    },
    {
      "cell_type": "code",
      "source": [
        "from sklearn.metrics import confusion_matrix\n",
        "cm = confusion_matrix(y_test, y_pred)\n",
        "print(cm)"
      ],
      "metadata": {
        "colab": {
          "base_uri": "https://localhost:8080/"
        },
        "id": "RZByu_QYTXaT",
        "outputId": "fe0f00c9-6c99-4d5d-8d02-a13d31e64090"
      },
      "execution_count": 146,
      "outputs": [
        {
          "output_type": "stream",
          "name": "stdout",
          "text": [
            "[[0 0 0 0 0 0 0 0 0 0 0 0 0 0 0 0 0 0 0 0 0 0]\n",
            " [0 0 0 0 0 0 0 0 0 0 0 0 0 0 1 0 0 0 0 0 0 0]\n",
            " [0 0 1 0 0 0 0 0 0 0 0 0 0 0 0 0 0 0 0 0 0 0]\n",
            " [0 0 1 0 0 0 0 0 0 0 0 0 0 0 0 0 0 0 0 0 0 0]\n",
            " [0 0 0 0 0 0 0 0 0 0 0 0 0 0 0 0 0 0 0 0 0 0]\n",
            " [0 0 1 0 0 0 0 0 0 0 0 0 0 0 0 0 0 0 0 0 0 0]\n",
            " [0 0 0 0 0 0 0 0 0 0 0 0 0 0 0 1 0 0 0 0 0 0]\n",
            " [0 0 0 0 0 0 0 0 0 0 0 0 1 0 0 0 0 0 0 0 0 0]\n",
            " [0 0 0 0 0 0 0 0 0 0 1 0 0 0 0 0 0 0 0 0 0 0]\n",
            " [0 0 0 0 1 0 0 0 0 0 0 0 0 0 1 0 0 0 0 0 0 0]\n",
            " [0 0 0 0 0 0 0 0 0 0 0 0 0 0 0 0 0 0 0 0 0 0]\n",
            " [0 0 1 0 0 0 0 0 0 0 0 0 0 0 0 0 0 0 0 0 0 0]\n",
            " [0 0 0 0 0 0 0 0 0 0 0 0 0 0 0 0 0 0 0 0 0 0]\n",
            " [0 0 0 0 0 0 0 0 0 0 1 0 0 0 0 0 0 0 0 0 0 0]\n",
            " [0 0 0 0 0 0 0 0 0 0 0 0 0 0 0 0 0 0 0 0 0 0]\n",
            " [0 0 0 0 0 0 0 0 0 0 0 0 0 0 0 0 0 0 0 0 0 0]\n",
            " [0 0 0 0 0 0 0 0 0 0 0 0 0 0 1 0 0 0 0 0 0 0]\n",
            " [0 0 0 0 0 0 0 0 0 0 0 0 0 0 0 0 0 0 1 0 0 0]\n",
            " [0 0 0 0 0 0 0 0 0 0 0 0 0 0 0 0 0 0 0 0 0 0]\n",
            " [1 0 0 0 0 0 0 0 0 0 0 0 0 0 0 0 0 0 0 0 0 0]\n",
            " [0 0 0 0 0 0 0 0 0 0 0 0 0 0 1 0 0 0 0 0 0 0]\n",
            " [0 0 0 0 0 0 0 0 0 0 0 0 0 0 1 0 0 0 0 0 0 0]]\n"
          ]
        }
      ]
    },
    {
      "cell_type": "code",
      "source": [
        "from matplotlib.colors import ListedColormap\n",
        "x_set, y_set = x_train, y_train\n",
        "x1, x2 = np.meshgrid(np.arange(start = x_set[:, 0].min()-1, stop = x_set[:, 0].max() + 1, step=0.01), \n",
        "                     np.arange(start = x_set[:, 1].min()-1, stop = x_set[:, 0].max() + 1, step=0.01))\n",
        "plt.contourf(x1,x2, classifier.predict(np.array([x1.ravel(), x2.ravel()]).T).reshape(x1.shape), \n",
        "             alpha = 0.75, cmap = ListedColormap(('red' , 'green')))\n",
        "plt.xlim(x1.min(), x1.max())\n",
        "plt.xlim(x2.min(), x2.max())\n",
        "for i, j in enumerate (np.unique(y_set)):\n",
        "  plt.scatter(x_set[y_set == j, 0], x_set[y_set==j, 1],\n",
        "              c = ListedColormap(('red', 'green'))(i), label = j)\n",
        "plt.title('Data Judul Publikasi Siaran Pers Pemerintah DKI Jakarta Januari (2021)')\n",
        "plt.xlabel('Jumlah Foto')\n",
        "plt.ylabel('Jumlah Previewed')\n",
        "plt.legend()\n",
        "plt.show()"
      ],
      "metadata": {
        "colab": {
          "base_uri": "https://localhost:8080/",
          "height": 1000
        },
        "id": "clHxjQS3TgMF",
        "outputId": "94919d04-e1c5-47fe-f30c-438c2f8b0806"
      },
      "execution_count": 147,
      "outputs": [
        {
          "output_type": "stream",
          "name": "stderr",
          "text": [
            "*c* argument looks like a single numeric RGB or RGBA sequence, which should be avoided as value-mapping will have precedence in case its length matches with *x* & *y*.  Please use the *color* keyword-argument or provide a 2-D array with a single row if you intend to specify the same RGB or RGBA value for all points.\n",
            "*c* argument looks like a single numeric RGB or RGBA sequence, which should be avoided as value-mapping will have precedence in case its length matches with *x* & *y*.  Please use the *color* keyword-argument or provide a 2-D array with a single row if you intend to specify the same RGB or RGBA value for all points.\n",
            "*c* argument looks like a single numeric RGB or RGBA sequence, which should be avoided as value-mapping will have precedence in case its length matches with *x* & *y*.  Please use the *color* keyword-argument or provide a 2-D array with a single row if you intend to specify the same RGB or RGBA value for all points.\n",
            "*c* argument looks like a single numeric RGB or RGBA sequence, which should be avoided as value-mapping will have precedence in case its length matches with *x* & *y*.  Please use the *color* keyword-argument or provide a 2-D array with a single row if you intend to specify the same RGB or RGBA value for all points.\n",
            "*c* argument looks like a single numeric RGB or RGBA sequence, which should be avoided as value-mapping will have precedence in case its length matches with *x* & *y*.  Please use the *color* keyword-argument or provide a 2-D array with a single row if you intend to specify the same RGB or RGBA value for all points.\n",
            "*c* argument looks like a single numeric RGB or RGBA sequence, which should be avoided as value-mapping will have precedence in case its length matches with *x* & *y*.  Please use the *color* keyword-argument or provide a 2-D array with a single row if you intend to specify the same RGB or RGBA value for all points.\n",
            "*c* argument looks like a single numeric RGB or RGBA sequence, which should be avoided as value-mapping will have precedence in case its length matches with *x* & *y*.  Please use the *color* keyword-argument or provide a 2-D array with a single row if you intend to specify the same RGB or RGBA value for all points.\n",
            "*c* argument looks like a single numeric RGB or RGBA sequence, which should be avoided as value-mapping will have precedence in case its length matches with *x* & *y*.  Please use the *color* keyword-argument or provide a 2-D array with a single row if you intend to specify the same RGB or RGBA value for all points.\n",
            "*c* argument looks like a single numeric RGB or RGBA sequence, which should be avoided as value-mapping will have precedence in case its length matches with *x* & *y*.  Please use the *color* keyword-argument or provide a 2-D array with a single row if you intend to specify the same RGB or RGBA value for all points.\n",
            "*c* argument looks like a single numeric RGB or RGBA sequence, which should be avoided as value-mapping will have precedence in case its length matches with *x* & *y*.  Please use the *color* keyword-argument or provide a 2-D array with a single row if you intend to specify the same RGB or RGBA value for all points.\n",
            "*c* argument looks like a single numeric RGB or RGBA sequence, which should be avoided as value-mapping will have precedence in case its length matches with *x* & *y*.  Please use the *color* keyword-argument or provide a 2-D array with a single row if you intend to specify the same RGB or RGBA value for all points.\n",
            "*c* argument looks like a single numeric RGB or RGBA sequence, which should be avoided as value-mapping will have precedence in case its length matches with *x* & *y*.  Please use the *color* keyword-argument or provide a 2-D array with a single row if you intend to specify the same RGB or RGBA value for all points.\n",
            "*c* argument looks like a single numeric RGB or RGBA sequence, which should be avoided as value-mapping will have precedence in case its length matches with *x* & *y*.  Please use the *color* keyword-argument or provide a 2-D array with a single row if you intend to specify the same RGB or RGBA value for all points.\n",
            "*c* argument looks like a single numeric RGB or RGBA sequence, which should be avoided as value-mapping will have precedence in case its length matches with *x* & *y*.  Please use the *color* keyword-argument or provide a 2-D array with a single row if you intend to specify the same RGB or RGBA value for all points.\n",
            "*c* argument looks like a single numeric RGB or RGBA sequence, which should be avoided as value-mapping will have precedence in case its length matches with *x* & *y*.  Please use the *color* keyword-argument or provide a 2-D array with a single row if you intend to specify the same RGB or RGBA value for all points.\n",
            "*c* argument looks like a single numeric RGB or RGBA sequence, which should be avoided as value-mapping will have precedence in case its length matches with *x* & *y*.  Please use the *color* keyword-argument or provide a 2-D array with a single row if you intend to specify the same RGB or RGBA value for all points.\n",
            "*c* argument looks like a single numeric RGB or RGBA sequence, which should be avoided as value-mapping will have precedence in case its length matches with *x* & *y*.  Please use the *color* keyword-argument or provide a 2-D array with a single row if you intend to specify the same RGB or RGBA value for all points.\n",
            "*c* argument looks like a single numeric RGB or RGBA sequence, which should be avoided as value-mapping will have precedence in case its length matches with *x* & *y*.  Please use the *color* keyword-argument or provide a 2-D array with a single row if you intend to specify the same RGB or RGBA value for all points.\n",
            "*c* argument looks like a single numeric RGB or RGBA sequence, which should be avoided as value-mapping will have precedence in case its length matches with *x* & *y*.  Please use the *color* keyword-argument or provide a 2-D array with a single row if you intend to specify the same RGB or RGBA value for all points.\n",
            "*c* argument looks like a single numeric RGB or RGBA sequence, which should be avoided as value-mapping will have precedence in case its length matches with *x* & *y*.  Please use the *color* keyword-argument or provide a 2-D array with a single row if you intend to specify the same RGB or RGBA value for all points.\n",
            "*c* argument looks like a single numeric RGB or RGBA sequence, which should be avoided as value-mapping will have precedence in case its length matches with *x* & *y*.  Please use the *color* keyword-argument or provide a 2-D array with a single row if you intend to specify the same RGB or RGBA value for all points.\n",
            "*c* argument looks like a single numeric RGB or RGBA sequence, which should be avoided as value-mapping will have precedence in case its length matches with *x* & *y*.  Please use the *color* keyword-argument or provide a 2-D array with a single row if you intend to specify the same RGB or RGBA value for all points.\n",
            "*c* argument looks like a single numeric RGB or RGBA sequence, which should be avoided as value-mapping will have precedence in case its length matches with *x* & *y*.  Please use the *color* keyword-argument or provide a 2-D array with a single row if you intend to specify the same RGB or RGBA value for all points.\n",
            "*c* argument looks like a single numeric RGB or RGBA sequence, which should be avoided as value-mapping will have precedence in case its length matches with *x* & *y*.  Please use the *color* keyword-argument or provide a 2-D array with a single row if you intend to specify the same RGB or RGBA value for all points.\n",
            "*c* argument looks like a single numeric RGB or RGBA sequence, which should be avoided as value-mapping will have precedence in case its length matches with *x* & *y*.  Please use the *color* keyword-argument or provide a 2-D array with a single row if you intend to specify the same RGB or RGBA value for all points.\n",
            "*c* argument looks like a single numeric RGB or RGBA sequence, which should be avoided as value-mapping will have precedence in case its length matches with *x* & *y*.  Please use the *color* keyword-argument or provide a 2-D array with a single row if you intend to specify the same RGB or RGBA value for all points.\n",
            "*c* argument looks like a single numeric RGB or RGBA sequence, which should be avoided as value-mapping will have precedence in case its length matches with *x* & *y*.  Please use the *color* keyword-argument or provide a 2-D array with a single row if you intend to specify the same RGB or RGBA value for all points.\n",
            "*c* argument looks like a single numeric RGB or RGBA sequence, which should be avoided as value-mapping will have precedence in case its length matches with *x* & *y*.  Please use the *color* keyword-argument or provide a 2-D array with a single row if you intend to specify the same RGB or RGBA value for all points.\n",
            "*c* argument looks like a single numeric RGB or RGBA sequence, which should be avoided as value-mapping will have precedence in case its length matches with *x* & *y*.  Please use the *color* keyword-argument or provide a 2-D array with a single row if you intend to specify the same RGB or RGBA value for all points.\n",
            "*c* argument looks like a single numeric RGB or RGBA sequence, which should be avoided as value-mapping will have precedence in case its length matches with *x* & *y*.  Please use the *color* keyword-argument or provide a 2-D array with a single row if you intend to specify the same RGB or RGBA value for all points.\n",
            "*c* argument looks like a single numeric RGB or RGBA sequence, which should be avoided as value-mapping will have precedence in case its length matches with *x* & *y*.  Please use the *color* keyword-argument or provide a 2-D array with a single row if you intend to specify the same RGB or RGBA value for all points.\n",
            "*c* argument looks like a single numeric RGB or RGBA sequence, which should be avoided as value-mapping will have precedence in case its length matches with *x* & *y*.  Please use the *color* keyword-argument or provide a 2-D array with a single row if you intend to specify the same RGB or RGBA value for all points.\n",
            "*c* argument looks like a single numeric RGB or RGBA sequence, which should be avoided as value-mapping will have precedence in case its length matches with *x* & *y*.  Please use the *color* keyword-argument or provide a 2-D array with a single row if you intend to specify the same RGB or RGBA value for all points.\n",
            "*c* argument looks like a single numeric RGB or RGBA sequence, which should be avoided as value-mapping will have precedence in case its length matches with *x* & *y*.  Please use the *color* keyword-argument or provide a 2-D array with a single row if you intend to specify the same RGB or RGBA value for all points.\n",
            "*c* argument looks like a single numeric RGB or RGBA sequence, which should be avoided as value-mapping will have precedence in case its length matches with *x* & *y*.  Please use the *color* keyword-argument or provide a 2-D array with a single row if you intend to specify the same RGB or RGBA value for all points.\n",
            "*c* argument looks like a single numeric RGB or RGBA sequence, which should be avoided as value-mapping will have precedence in case its length matches with *x* & *y*.  Please use the *color* keyword-argument or provide a 2-D array with a single row if you intend to specify the same RGB or RGBA value for all points.\n",
            "*c* argument looks like a single numeric RGB or RGBA sequence, which should be avoided as value-mapping will have precedence in case its length matches with *x* & *y*.  Please use the *color* keyword-argument or provide a 2-D array with a single row if you intend to specify the same RGB or RGBA value for all points.\n",
            "*c* argument looks like a single numeric RGB or RGBA sequence, which should be avoided as value-mapping will have precedence in case its length matches with *x* & *y*.  Please use the *color* keyword-argument or provide a 2-D array with a single row if you intend to specify the same RGB or RGBA value for all points.\n",
            "*c* argument looks like a single numeric RGB or RGBA sequence, which should be avoided as value-mapping will have precedence in case its length matches with *x* & *y*.  Please use the *color* keyword-argument or provide a 2-D array with a single row if you intend to specify the same RGB or RGBA value for all points.\n",
            "*c* argument looks like a single numeric RGB or RGBA sequence, which should be avoided as value-mapping will have precedence in case its length matches with *x* & *y*.  Please use the *color* keyword-argument or provide a 2-D array with a single row if you intend to specify the same RGB or RGBA value for all points.\n",
            "*c* argument looks like a single numeric RGB or RGBA sequence, which should be avoided as value-mapping will have precedence in case its length matches with *x* & *y*.  Please use the *color* keyword-argument or provide a 2-D array with a single row if you intend to specify the same RGB or RGBA value for all points.\n"
          ]
        },
        {
          "output_type": "display_data",
          "data": {
            "text/plain": [
              "<Figure size 432x288 with 1 Axes>"
            ],
            "image/png": "[encoded data removed]"
          },
          "metadata": {
            "needs_background": "light"
          }
        }
      ]
    }
  ]
}